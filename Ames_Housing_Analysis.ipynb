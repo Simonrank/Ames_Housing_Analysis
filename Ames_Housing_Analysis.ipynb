{
 "cells": [
  {
   "cell_type": "code",
   "execution_count": 23,
   "metadata": {},
   "outputs": [],
   "source": [
    "#### 1. Import the Relevant Library\n",
    "import pandas as pd"
   ]
  },
  {
   "cell_type": "code",
   "execution_count": 22,
   "metadata": {},
   "outputs": [],
   "source": [
    "### 2. Load the Data into a DataFrame Called `housing_data`\n",
    "housing_data=pd.read_csv(\"AmesHousing.csv\")"
   ]
  },
  {
   "cell_type": "markdown",
   "metadata": {},
   "source": [
    "housing_data.head()"
   ]
  },
  {
   "cell_type": "code",
   "execution_count": 6,
   "metadata": {},
   "outputs": [
    {
     "data": {
      "text/plain": [
       "pandas.core.frame.DataFrame"
      ]
     },
     "execution_count": 6,
     "metadata": {},
     "output_type": "execute_result"
    }
   ],
   "source": [
    "type(housing_data)"
   ]
  },
  {
   "cell_type": "code",
   "execution_count": 13,
   "metadata": {},
   "outputs": [],
   "source": [
    "#### 3. Create a New Column `price_per_square_ft`\n",
    "\n",
    "housing_data[\"price_per_square_ft\"] = housing_data[\"SalePrice\"] / housing_data[\"Gr Liv Area\"]\n",
    "\n"
   ]
  },
  {
   "cell_type": "code",
   "execution_count": 12,
   "metadata": {},
   "outputs": [
    {
     "name": "stdout",
     "output_type": "stream",
     "text": [
      "Index(['Order', 'PID', 'MS SubClass', 'MS Zoning', 'Lot Frontage', 'Lot Area',\n",
      "       'Street', 'Alley', 'Lot Shape', 'Land Contour', 'Utilities',\n",
      "       'Lot Config', 'Land Slope', 'Neighborhood', 'Condition 1',\n",
      "       'Condition 2', 'Bldg Type', 'House Style', 'Overall Qual',\n",
      "       'Overall Cond', 'Year Built', 'Year Remod/Add', 'Roof Style',\n",
      "       'Roof Matl', 'Exterior 1st', 'Exterior 2nd', 'Mas Vnr Type',\n",
      "       'Mas Vnr Area', 'Exter Qual', 'Exter Cond', 'Foundation', 'Bsmt Qual',\n",
      "       'Bsmt Cond', 'Bsmt Exposure', 'BsmtFin Type 1', 'BsmtFin SF 1',\n",
      "       'BsmtFin Type 2', 'BsmtFin SF 2', 'Bsmt Unf SF', 'Total Bsmt SF',\n",
      "       'Heating', 'Heating QC', 'Central Air', 'Electrical', '1st Flr SF',\n",
      "       '2nd Flr SF', 'Low Qual Fin SF', 'Gr Liv Area', 'Bsmt Full Bath',\n",
      "       'Bsmt Half Bath', 'Full Bath', 'Half Bath', 'Bedroom AbvGr',\n",
      "       'Kitchen AbvGr', 'Kitchen Qual', 'TotRms AbvGrd', 'Functional',\n",
      "       'Fireplaces', 'Fireplace Qu', 'Garage Type', 'Garage Yr Blt',\n",
      "       'Garage Finish', 'Garage Cars', 'Garage Area', 'Garage Qual',\n",
      "       'Garage Cond', 'Paved Drive', 'Wood Deck SF', 'Open Porch SF',\n",
      "       'Enclosed Porch', '3Ssn Porch', 'Screen Porch', 'Pool Area', 'Pool QC',\n",
      "       'Fence', 'Misc Feature', 'Misc Val', 'Mo Sold', 'Yr Sold', 'Sale Type',\n",
      "       'Sale Condition', 'SalePrice'],\n",
      "      dtype='object')\n"
     ]
    }
   ],
   "source": [
    "#Checking the total number of columns in our dataset\n",
    "print(housing_data.columns)\n"
   ]
  },
  {
   "cell_type": "code",
   "execution_count": 14,
   "metadata": {},
   "outputs": [
    {
     "data": {
      "text/plain": [
       "0       129.830918\n",
       "1       117.187500\n",
       "2       129.420617\n",
       "3       115.639810\n",
       "4       116.574586\n",
       "           ...    \n",
       "2925    142.073779\n",
       "2926    145.232816\n",
       "2927    136.082474\n",
       "2928    122.390209\n",
       "2929     94.000000\n",
       "Name: price_per_square_ft, Length: 2930, dtype: float64"
      ]
     },
     "execution_count": 14,
     "metadata": {},
     "output_type": "execute_result"
    }
   ],
   "source": [
    "#I have created a column called 'price per square foot'\n",
    "housing_data[\"price_per_square_ft\"]"
   ]
  },
  {
   "cell_type": "code",
   "execution_count": 15,
   "metadata": {},
   "outputs": [],
   "source": [
    "#Find the mean price per square foot\n",
    "mean_price_per_square_ft=housing_data[\"price_per_square_ft\"].mean()"
   ]
  },
  {
   "cell_type": "code",
   "execution_count": 16,
   "metadata": {},
   "outputs": [
    {
     "data": {
      "text/plain": [
       "121.30361928519302"
      ]
     },
     "execution_count": 16,
     "metadata": {},
     "output_type": "execute_result"
    }
   ],
   "source": [
    "mean_price_per_square_ft"
   ]
  },
  {
   "cell_type": "code",
   "execution_count": 17,
   "metadata": {},
   "outputs": [
    {
     "data": {
      "text/plain": [
       "numpy.float64"
      ]
     },
     "execution_count": 17,
     "metadata": {},
     "output_type": "execute_result"
    }
   ],
   "source": [
    "type(mean_price_per_square_ft)"
   ]
  },
  {
   "cell_type": "code",
   "execution_count": 18,
   "metadata": {},
   "outputs": [],
   "source": [
    "import matplotlib.pyplot as plt"
   ]
  },
  {
   "cell_type": "code",
   "execution_count": 20,
   "metadata": {},
   "outputs": [
    {
     "data": {
      "image/png": "[encoded data removed]",
      "text/plain": [
       "<Figure size 432x288 with 1 Axes>"
      ]
     },
     "metadata": {
      "needs_background": "light"
     },
     "output_type": "display_data"
    }
   ],
   "source": [
    "#### 5. Plot Price per Square Foot for Select Neighborhoods\n",
    "x = \"Neighborhood\"\n",
    "y = \"price_per_square_ft\"\n",
    "subset = housing_data[housing_data[\"Neighborhood\"].isin([\n",
    "    \"SawyerW\", \"Sawyer\", \"ClearCr\", \"CollgCr\", \"Edwards\", \"SWISU\"\n",
    "])]\n",
    "grouped_by_neighborhood = subset.groupby(\"Neighborhood\").mean(numeric_only=True).reset_index()\n",
    "ax = grouped_by_neighborhood.plot.bar(x=x, y=y, rot=0, title=\"Prices per Square Foot in West Ames\");"
   ]
  },
  {
   "cell_type": "code",
   "execution_count": null,
   "metadata": {},
   "outputs": [],
   "source": [
    "#Since Price per Square Foot is derived from SalePrice / Gr Liv Area, it helps compare home values across different neighborhoods, regardless of home size.\n",
    "#CollgCr (College Creek) has the highest price per square foot, suggesting high demand, newer or more desirable homes, or better amenities in that area.\n",
    "#Simmilaryly SWISU (Southwest ISU) has the lowest price per square foot, indicating either older homes, less demand, or fewer amenities.\n",
    "#nvestment Opportunities:\n",
    "\n",
    "##If looking for affordable housing investments, SWISU and Edwards could be ideal due to lower price per square foot."
   ]
  }
 ],
 "metadata": {
  "kernelspec": {
   "display_name": "Python (learn-env)",
   "language": "python",
   "name": "learn-env"
  },
  "language_info": {
   "codemirror_mode": {
    "name": "ipython",
    "version": 3
   },
   "file_extension": ".py",
   "mimetype": "text/x-python",
   "name": "python",
   "nbconvert_exporter": "python",
   "pygments_lexer": "ipython3",
   "version": "3.8.5"
  }
 },
 "nbformat": 4,
 "nbformat_minor": 4
}
